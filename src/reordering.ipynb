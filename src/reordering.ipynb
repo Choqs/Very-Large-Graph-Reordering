{
 "cells": [
  {
   "cell_type": "markdown",
   "metadata": {},
   "source": [
    "# Verry Large Graph - SCIA 2020\n",
    "\n",
    "The purpose of this project is to highlight the difference in temporal complexity of Louvain algorithm between an unordered and reordered graph. We will try different approaches to reorder the graph."
   ]
  },
  {
   "cell_type": "markdown",
   "metadata": {},
   "source": [
    "## Subject\n",
    "\n",
    "Using the graphs \"inet\" and \"ip\".\n",
    "- Write a reordering algorithm as presented above using a simple BFS, from a random node and from the maxdegree node.\n",
    "- Test on \"inet\" / \"inetgiant\" and \"ip\" / \"ipgiant\" the time complexity of Louvain algorithms with time.clock()."
   ]
  },
  {
   "cell_type": "markdown",
   "metadata": {},
   "source": [
    "## 1 - How to install requirements\n",
    "\n",
    "### iGraph\n",
    "\n",
    "```sh\n",
    "conda install -c conda-forge python-igraph\n",
    "```\n",
    "or\n",
    "```bash\n",
    "pip install python-igraph\n",
    "```\n",
    "\n",
    "### Jupyter Notebook\n",
    "\n",
    "```bash\n",
    "pip install jupyter\n",
    "```\n",
    "or\n",
    "```bash\n",
    "conda install -c anaconda jupyter \n",
    "```\n",
    "\n",
    "### Pandas\n",
    "\n",
    "```bash\n",
    "pip install pandas\n",
    "```\n",
    "or\n",
    "```bash\n",
    "conda install pandas\n",
    "```"
   ]
  },
  {
   "cell_type": "markdown",
   "metadata": {},
   "source": [
    "## 2 - Implementation\n",
    "\n",
    "### 1 - Imports & Graphs (Creating the giants connected component for inet)"
   ]
  },
  {
   "cell_type": "code",
   "execution_count": 11,
   "metadata": {},
   "outputs": [],
   "source": [
    "import igraph as ig\n",
    "import time as t\n",
    "import pandas as pd"
   ]
  },
  {
   "cell_type": "code",
   "execution_count": 17,
   "metadata": {},
   "outputs": [],
   "source": [
    "inet = ig.Graph.Read_Edgelist(\"../graphs/inet\", directed=False)"
   ]
  },
  {
   "cell_type": "markdown",
   "metadata": {},
   "source": [
    "### 2 -  Reordering algorithm"
   ]
  },
  {
   "cell_type": "code",
   "execution_count": 27,
   "metadata": {},
   "outputs": [],
   "source": [
    "class GraphOrdering:\n",
    "    def __init__(self, graphName, graph):\n",
    "        start = t.clock() \n",
    "        self.adjacencyDict = {}\n",
    "        self.orderAdjacencyDict = {}\n",
    "        self.graphName = graphName\n",
    "        self.graph = graph\n",
    "        graphFile = open(\"../graphs/\" + graphName, 'r')\n",
    "        for line in graphFile:\n",
    "            vertices = line.replace('\\n', '').split(' ')\n",
    "            self.addEdge(int(vertices[0]), int(vertices[1]))\n",
    "        graphFile.close()   \n",
    "        print('Init done in ' + str(t.clock() - start) + ' sec.')\n",
    "    def addEdge(self, vertex1, vertex2):\n",
    "        if vertex1 in self.adjacencyDict:\n",
    "            self.adjacencyDict[vertex1].append(vertex2)\n",
    "        else:\n",
    "            self.adjacencyDict[vertex1] = [vertex2]\n",
    "    def saveReorderAs(self, fileName):\n",
    "        start = t.clock() \n",
    "        data = ''\n",
    "        for key in self.orderAdjacencyDict:\n",
    "            for src in self.orderAdjacencyDict[key]:\n",
    "                for dst in self.orderAdjacencyDict[key][src]:\n",
    "                    data += str(src) + ' ' + str(dst) + '\\n'\n",
    "        graphFile = open(\"../graphs/\" + fileName, 'w+')\n",
    "        graphFile.write(data)\n",
    "        graphFile.close()\n",
    "        print('Saving new graph done in ' + str(t.clock() - start) + ' sec.')\n",
    "    def reorder(self):\n",
    "        start = t.clock() \n",
    "        community = self.graph.community_multilevel()\n",
    "        sizes = community.sizes()\n",
    "        for i in range(len(sizes)):\n",
    "            self.orderAdjacencyDict[i] = {}\n",
    "        members = community.membership\n",
    "        for i in range(len(members)):\n",
    "            if i in self.adjacencyDict:\n",
    "                self.orderAdjacencyDict[members[i]][i] = self.adjacencyDict[i]\n",
    "        for key in sorted(self.orderAdjacencyDict, key = lambda k: len(self.orderAdjacencyDict[k]), reverse=False):\n",
    "            self.orderAdjacencyDict[key] = self.orderAdjacencyDict.pop(key)\n",
    "        for key in self.orderAdjacencyDict:\n",
    "            for key2 in sorted(self.orderAdjacencyDict[key], key = lambda k: len(self.orderAdjacencyDict[key][k]), reverse=False):\n",
    "                self.orderAdjacencyDict[key][key2] = self.orderAdjacencyDict[key].pop(key2)\n",
    "        print('Reorder done in ' + str(t.clock() - start) + ' sec.')"
   ]
  },
  {
   "cell_type": "markdown",
   "metadata": {},
   "source": [
    "### 3 -  Testing (i7-9700k / 16Go 2666MHz CL16 / SSD)\n",
    "\n",
    "#### 1 - Init & Reordering (~47sec)"
   ]
  },
  {
   "cell_type": "code",
   "execution_count": 23,
   "metadata": {},
   "outputs": [
    {
     "name": "stdout",
     "output_type": "stream",
     "text": [
      "Init done in 13.417700646514163sec.\n",
      "Reorder done in 35.84472823166766sec.\n"
     ]
    }
   ],
   "source": [
    "inetReorder = GraphOrdering('inet', inet)\n",
    "inetReorder.reorder()"
   ]
  },
  {
   "cell_type": "markdown",
   "metadata": {},
   "source": [
    "#### 2 - Saving (~977sec)"
   ]
  },
  {
   "cell_type": "code",
   "execution_count": 25,
   "metadata": {},
   "outputs": [
    {
     "name": "stdout",
     "output_type": "stream",
     "text": [
      "Saving new graph done in 976.8115150572173sec.\n"
     ]
    }
   ],
   "source": [
    "inetReorder.saveReorderAs('inet-order')"
   ]
  },
  {
   "cell_type": "markdown",
   "metadata": {},
   "source": [
    "#### 3 - Testing (~87sec)"
   ]
  },
  {
   "cell_type": "code",
   "execution_count": 34,
   "metadata": {},
   "outputs": [],
   "source": [
    "def getGraph(graphName):\n",
    "    start = t.clock() \n",
    "    graph = ig.Graph.Read_Edgelist(\"../graphs/\" + graphName, directed=False)\n",
    "    time = t.clock() - start\n",
    "    return graph, time\n",
    "\n",
    "def getCommunityTime(graph):\n",
    "    start = t.clock() \n",
    "    graph.community_multilevel()\n",
    "    return t.clock() - start\n",
    "\n",
    "def getBfsTime(graph):\n",
    "    start = t.clock() \n",
    "    graph.bfs(0)\n",
    "    return t.clock() - start"
   ]
  },
  {
   "cell_type": "code",
   "execution_count": 35,
   "metadata": {},
   "outputs": [
    {
     "name": "stdout",
     "output_type": "stream",
     "text": [
      "            Graph  Loading Time  Community Time  BFS Time\n",
      "0  Inet Unordered      8.704427       36.345318  1.236712\n",
      "1  Inet Reordered      6.902874       32.403135  1.092027\n"
     ]
    }
   ],
   "source": [
    "inet, inetLT = getGraph('inet')\n",
    "inetOrder, inetOrderLT = getGraph('inet-order')\n",
    "inetCT = getCommunityTime(inet)\n",
    "inetOrderCT = getCommunityTime(inetOrder)\n",
    "inetBFST = getBfsTime(inet)\n",
    "inetOrderBFST = getBfsTime(inetOrder)\n",
    "\n",
    "\n",
    "df = pd.DataFrame({'Graph': ['Inet Unordered', 'Inet Reordered'],\n",
    "                   'Loading Time': [inetLT, inetOrderLT],\n",
    "                   'Community Time': [inetCT, inetOrderCT], \n",
    "                   'BFS Time': [inetBFST, inetOrderBFST]})\n",
    "\n",
    "print(df)"
   ]
  },
  {
   "cell_type": "markdown",
   "metadata": {},
   "source": [
    "## 3 - Conclusion"
   ]
  },
  {
   "cell_type": "markdown",
   "metadata": {},
   "source": [
    "Let G be a graph (V, E) with n = |V| nodes and m = |E| edges. We can say that G is a very large graph (LVG) if n and m are at least some millions. Also, G is a sparse graph if m = O(n). In this analysis, I used inet and ip graphs downloaded on Clémence Magnien's website (https://www-complexnetworks.lip6.fr/~magnien/Diameter/). For all my tests, I used a desktop with i7-9700K, 16Go RAM 2666MHz & CL16 and a SDD for writing edges list files.\n",
    "\n",
    "For two isomorphic graphs G and G’, any polynomial algorithm on graphs should take the same amount of time. But, when it comes to very large graph with millions or billions of edges, this is not true since two ismorphic graph can be ordered differently on the ram. Therefore, CPU will take slightly more time for an unordered graph traversal since he has to access further memory region.\n",
    "\n",
    "![original_graph](../images/originalgraph.png)\n",
    "![ordered_graph](../images/orderedgraph.png)\n",
    "<cite>Reordering Very Large Graphs for Fun (Lionel Auroux, Marwann Burelle, Robert Erra)</cite>\n",
    "\n",
    "GraphOrdering class take the graph edges list filename and his iGraph object in parameter (note that your graph edges list file must be in ./graphs/ and be undirected). Initilizer will create an empty adjacency dictionnary and add every edges in it. An empty adjacency dictionnary with community key will also be created and thus for sorting optimization in the reorder() method.\n",
    "The method reorder() reorder the graph sorting vertices by community size and vertex degree.\n",
    "The method saveReorderAs() take filename in parametter and save the reordered graph in ./graphs/filename. This method take a lot of time but can be improved with threading depending on the graph file. Since the longest part is the traversal of graph and the creation of the string to be writed, thread can help but they have to keep the order.\n",
    "\n",
    "I mainly used the inet graph for my tests. My reordering algorithm improved the loading time of the graph, the community detection time and also the BFS time.\n",
    "\n",
    "The first objective of this work was to prove that it was possible to save computing time by rearranging a graph in RAM. Although the rearrangement algorithm is not efficient and takes a long time, it allows to prove the theory mentioned above.\n",
    "\n",
    "\n",
    "For the inet graph, my rearrangement algorithm incease community detection speed by 12%,  breadth first search time by 13% and the loading time by 26%. On smaller graph or already arranged graphs, the algorithm does not affect the calculation time. A graph named \"medium\" with 749 edges is available on the ./graphs folder."
   ]
  },
  {
   "cell_type": "markdown",
   "metadata": {},
   "source": [
    "## Credit\n",
    "\n",
    "Rivière Vincent (rivier_c) - Promo SCIA 2020"
   ]
  }
 ],
 "metadata": {
  "kernelspec": {
   "display_name": "Python 3",
   "language": "python",
   "name": "python3"
  },
  "language_info": {
   "codemirror_mode": {
    "name": "ipython",
    "version": 3
   },
   "file_extension": ".py",
   "mimetype": "text/x-python",
   "name": "python",
   "nbconvert_exporter": "python",
   "pygments_lexer": "ipython3",
   "version": "3.6.8"
  }
 },
 "nbformat": 4,
 "nbformat_minor": 2
}
